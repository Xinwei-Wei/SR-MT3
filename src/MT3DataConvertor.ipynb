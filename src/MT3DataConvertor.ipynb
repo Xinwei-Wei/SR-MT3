{
 "cells": [
  {
   "cell_type": "code",
   "execution_count": 1,
   "metadata": {},
   "outputs": [],
   "source": [
    "from util.FusionDataGenerator import FusionDataGenerator\n",
    "import numpy as np\n",
    "import cmath\n",
    "\n",
    "import os\n",
    "import multiprocessing\n",
    "import argparse\n",
    "import itertools\n",
    "\n",
    "import numpy as np\n",
    "from numpy.random import SeedSequence, default_rng\n",
    "import torch\n",
    "from torch import Tensor\n",
    "import matplotlib.pyplot as plt\n",
    "from util.load_config_files import load_yaml_into_dotdict\n",
    "from util.misc import NestedTensor"
   ]
  },
  {
   "cell_type": "code",
   "execution_count": null,
   "metadata": {},
   "outputs": [],
   "source": [
    "datagen = FusionDataGenerator('/home/weixinwei/task.yaml')"
   ]
  },
  {
   "cell_type": "code",
   "execution_count": null,
   "metadata": {},
   "outputs": [],
   "source": [
    "result = datagen.GenMeasurements()"
   ]
  },
  {
   "cell_type": "code",
   "execution_count": null,
   "metadata": {},
   "outputs": [],
   "source": [
    "taskPath = '/home/weixinwei/task.yaml'\n",
    "modelPath = '/home/weixinwei/study/MT3-test/configs/models/mt3.yaml'\n",
    "mdc = MT3DataConvertor(taskPath, modelPath)"
   ]
  },
  {
   "cell_type": "code",
   "execution_count": null,
   "metadata": {},
   "outputs": [],
   "source": [
    "mdc.params.totalArg.batchSize"
   ]
  },
  {
   "cell_type": "code",
   "execution_count": 2,
   "metadata": {},
   "outputs": [
    {
     "name": "stdout",
     "output_type": "stream",
     "text": [
      "DataGeneratorParams: TimeStep = 20, Cycle = 31, Bias = 0.\n"
     ]
    }
   ],
   "source": [
    "class MT3DataConvertor():\n",
    "\tdef __init__(self, taskPath, modelPath) -> None:\n",
    "\t\t# 从yaml载入超参数\n",
    "\t\tself.params = load_yaml_into_dotdict(taskPath)\n",
    "\t\tself.params.update(load_yaml_into_dotdict(modelPath))\n",
    "\t\tself.__batchSize = int(self.params.totalArg.batchSize)\n",
    "\t\tself.__nTimeStep = int(self.params.totalArg.n_timesteps)\n",
    "\t\tself.cycle = int(np.floor((self.params.targetArg.tf - self.params.targetArg.t0) * 1000 / self.params.sensorArg.Radar.T) - self.__nTimeStep + 1)\n",
    "\t\tself.device = self.params.training.device\n",
    "\t\tself.fusionDataGenerator = FusionDataGenerator(taskPath)\n",
    "\t\tself.ResetBias()\n",
    "\n",
    "\tdef ResetBias(self, bias=0):\n",
    "\t\tself.__get_Seq_training_example = self.__Get_Seq_training_example()\n",
    "\t\tfor i in range(bias):\n",
    "\t\t\tnext(self.__get_Seq_training_example)\n",
    "\t\tprint('DataGeneratorParams: TimeStep = %d, Cycle = %d, Bias = %d.' %(self.__nTimeStep, self.cycle, bias))\n",
    "\t\t\n",
    "\tdef Get_batch(self):\n",
    "\t\ttraining_data, labels, unique_ids = next(self.__get_Seq_training_example)\n",
    "\n",
    "\t\tlabels = [Tensor(l).to(torch.device(self.device)) for l in labels]\n",
    "\t\tunique_ids = [list(u) for u in unique_ids]\n",
    "\n",
    "\t\t# Pad training data\n",
    "\t\tmax_len = max(list(map(len, training_data)))\n",
    "\t\ttraining_data, mask = self.__pad_to_batch_max(training_data, max_len)\n",
    "\n",
    "\t\t# Pad unique ids\n",
    "\t\tfor i in range(len(unique_ids)):\n",
    "\t\t\tunique_id = unique_ids[i]\n",
    "\t\t\tn_items_to_add = max_len - len(unique_id)\n",
    "\t\t\tunique_ids[i] = np.concatenate([unique_id, [-2] * n_items_to_add])[None, :]\n",
    "\t\tunique_ids = np.concatenate(unique_ids)\n",
    "\n",
    "\t\ttraining_nested_tensor = NestedTensor(Tensor(training_data).to(torch.device(self.device)),\n",
    "\t\t\t\t\t\t\t\t\t\t\t  Tensor(mask).bool().to(torch.device(self.device)))\n",
    "\t\tunique_ids = Tensor(unique_ids).to(self.device)\n",
    "\n",
    "\t\tfor i in range(self.__batchSize):\n",
    "\t\t\tif torch.all(training_nested_tensor.tensors[i, :, 2] == 0):\n",
    "\t\t\t\tself.ResetBias()\n",
    "\t\t\t\treturn self.Get_batch()\n",
    "\t\t\t\n",
    "\t\treturn training_nested_tensor, labels, unique_ids\n",
    "\t\n",
    "\tdef __Get_Seq_training_example(self):\n",
    "\t\twhile True:\n",
    "\t\t\tself.fusionData = self.fusionDataGenerator.GenMeasurements()\n",
    "\t\t\tfor self.bias in range(self.cycle):\n",
    "\t\t\t\tyield self.__Get_batch_training_example(self.fusionData, self.bias)\n",
    "\n",
    "\tdef __Get_batch_training_example(self, result, bias):\n",
    "\t\tbatchSize = self.__batchSize\n",
    "\t\tnTimestep = self.__nTimeStep\n",
    "\t\ttraining_data = []\n",
    "\t\tlabels = []\n",
    "\t\tunique_ids = []\n",
    "\n",
    "\t\tfor k in range(batchSize):\n",
    "\t\t\ttk = result[k]['Radar']['t'][bias : bias+nTimestep]\n",
    "\t\t\tZk = result[k]['Radar']['Z'][bias : bias+nTimestep]\n",
    "\t\t\tZ_Truth_k = result[k]['Radar']['Z_Truth'][bias+nTimestep]\n",
    "\t\t\ttraining_data_k = np.empty([0, 3])\n",
    "\t\t\tunique_ids_k = np.empty(0).astype(np.int64)\n",
    "\t\t\tfor n in range(nTimestep):\n",
    "\t\t\t\tZ = Zk[n]\n",
    "\t\t\t\tZX, ZY = self.__Polar2Rect(Z[1], Z[2])\n",
    "\t\t\t\tZTX, ZTY = self.__Polar2Rect(Z_Truth_k[1], Z_Truth_k[2])\n",
    "\t\t\t\ttraining_data_n = np.c_[ZX[:, np.newaxis], ZY[:, np.newaxis], np.zeros([ZX.shape[0], 1]) + tk[n] - tk[0]]\n",
    "\t\t\t\ttraining_data_k = np.r_[training_data_k, training_data_n]\n",
    "\t\t\t\tunique_ids_k  = np.append(unique_ids_k, Z[0].astype(np.int64))\n",
    "\t\t\t# end for\n",
    "\t\t\ttraining_data.append(training_data_k)\n",
    "\t\t\tunique_ids.append(unique_ids_k)\n",
    "\t\t\tlabels.append(np.c_[ZTX[:, np.newaxis], ZTY[:, np.newaxis]])\n",
    "\t\treturn training_data, labels, unique_ids\n",
    "\t\n",
    "\tdef __pad_to_batch_max(self, training_data, max_len):\n",
    "\t\tbatch_size = len(training_data)\n",
    "\t\td_meas = training_data[0].shape[1]\n",
    "\t\ttraining_data_padded = np.zeros((batch_size, max_len, d_meas))\n",
    "\t\tmask = np.ones((batch_size, max_len))\n",
    "\t\tfor i, ex in enumerate(training_data):\n",
    "\t\t\ttraining_data_padded[i,:len(ex),:] = ex\n",
    "\t\t\tmask[i,:len(ex)] = 0\n",
    "\n",
    "\t\treturn training_data_padded, mask\n",
    "\t\n",
    "\tdef __Polar2Rect(self, radii, angles):\n",
    "\t\trect = radii * np.exp(1j * angles)\n",
    "\t\treturn np.real(rect), np.imag(rect)\n",
    "\t\n",
    "taskPath = '/home/weixinwei/task.yaml'\n",
    "modelPath = '/home/weixinwei/study/MT3-test/configs/models/mt3.yaml'\n",
    "mdc = MT3DataConvertor(taskPath, modelPath)\n",
    "# training_nested_tensor, labels, unique_ids = mdc.Get_batch()"
   ]
  },
  {
   "cell_type": "code",
   "execution_count": 19,
   "metadata": {},
   "outputs": [],
   "source": [
    "result = mdc.fusionData\n",
    "batchSize = 16\n",
    "nTimestep = 20\n",
    "Ttraining_data = []\n",
    "Tlabels = []\n",
    "Tunique_ids = []\n",
    "bias = 27\n",
    "\n",
    "for k in range(batchSize):\n",
    "\ttk = result[k]['Radar']['t'][bias : bias+nTimestep]\n",
    "\tZk = result[k]['Radar']['Z'][bias : bias+nTimestep]\n",
    "\tZ_Truth_k = result[k]['Radar']['Z_Truth'][bias+nTimestep]\n",
    "\ttraining_data_k = np.empty([0, 3])\n",
    "\tunique_ids_k = np.empty(0).astype(np.int64)\n",
    "\tfor n in range(nTimestep):\n",
    "\t\tZ = Zk[n]\n",
    "\t\tZX, ZY = Polar2Rect(Z[1], Z[2])\n",
    "\t\tZTX, ZTY = Polar2Rect(Z_Truth_k[1], Z_Truth_k[2])\n",
    "\t\ttraining_data_n = np.c_[ZX[:, np.newaxis], ZY[:, np.newaxis], np.zeros([ZX.shape[0], 1]) + tk[n] - tk[0]]\n",
    "\t\ttraining_data_k = np.r_[training_data_k, training_data_n]\n",
    "\t\tunique_ids_k  = np.append(unique_ids_k, Z[0].astype(np.int64))\n",
    "\t# end for\n",
    "\tTtraining_data.append(training_data_k)\n",
    "\tTunique_ids.append(unique_ids_k)\n",
    "\tTlabels.append(np.c_[ZTX[:, np.newaxis], ZTY[:, np.newaxis]])"
   ]
  },
  {
   "cell_type": "code",
   "execution_count": 276,
   "metadata": {},
   "outputs": [
    {
     "data": {
      "text/plain": [
       "1"
      ]
     },
     "execution_count": 276,
     "metadata": {},
     "output_type": "execute_result"
    }
   ],
   "source": [
    "np.around(np.random.normal(1, 0)).astype(np.int16)"
   ]
  },
  {
   "cell_type": "code",
   "execution_count": 228,
   "metadata": {},
   "outputs": [
    {
     "data": {
      "text/plain": [
       "(20,)"
      ]
     },
     "execution_count": 228,
     "metadata": {},
     "output_type": "execute_result"
    }
   ],
   "source": [
    "# Ttraining_data[1]\n",
    "Tunique_ids[0].shape"
   ]
  },
  {
   "cell_type": "code",
   "execution_count": 17,
   "metadata": {},
   "outputs": [],
   "source": [
    "def Polar2Rect(radii, angles):\n",
    "\trect = radii * np.exp(1j * angles)\n",
    "\treturn np.real(rect), np.imag(rect)"
   ]
  },
  {
   "cell_type": "code",
   "execution_count": 3,
   "metadata": {},
   "outputs": [
    {
     "name": "stdout",
     "output_type": "stream",
     "text": [
      "273\n"
     ]
    }
   ],
   "source": [
    "for i in range(1000):\n",
    "\ttraining_nested_tensor, labels, unique_ids = mdc.Get_batch()\n",
    "\tif  torch.any(training_nested_tensor.tensors[:, 1:, 2] == 0):\n",
    "\t\tprint(i)\n",
    "\t\tbreak"
   ]
  },
  {
   "cell_type": "code",
   "execution_count": 13,
   "metadata": {},
   "outputs": [],
   "source": [
    "training_nested_tensor, labels, unique_ids = mdc.Get_batch()"
   ]
  },
  {
   "cell_type": "code",
   "execution_count": 7,
   "metadata": {},
   "outputs": [],
   "source": [
    "f = 0\n",
    "for n in range(10000):\n",
    "\ttraining_nested_tensor, labels, unique_ids = mdc.Get_batch()\n",
    "\tfor i in range(16):\n",
    "\t\tif torch.all(training_nested_tensor.tensors[i, :, 2] == 0):\n",
    "\t\t\tf = 1\n",
    "\tif f == 1:\n",
    "\t\tprint(i)\n",
    "\t\tbreak\n",
    "# # training_nested_tensor.mask[1]\n",
    "# mdc.fusionData[1]['Radar']['Z']\n",
    "# mdc.fusionData\n",
    "# mdc.bias"
   ]
  },
  {
   "cell_type": "code",
   "execution_count": null,
   "metadata": {},
   "outputs": [],
   "source": [
    "Z = result[0]['Radar']['Z'][50]\n",
    "Z_Truth = result[0]['Radar']['Z_Truth'][50]"
   ]
  },
  {
   "cell_type": "code",
   "execution_count": null,
   "metadata": {},
   "outputs": [],
   "source": [
    "def Polar2Rect(radii, angles):\n",
    "    return radii * np.exp(1j*angles)"
   ]
  },
  {
   "cell_type": "code",
   "execution_count": null,
   "metadata": {},
   "outputs": [],
   "source": [
    "print(Z[1])\n",
    "print(Z[2])"
   ]
  },
  {
   "cell_type": "code",
   "execution_count": null,
   "metadata": {},
   "outputs": [],
   "source": []
  },
  {
   "cell_type": "code",
   "execution_count": null,
   "metadata": {},
   "outputs": [],
   "source": [
    "np.append([a1, a2])"
   ]
  },
  {
   "cell_type": "code",
   "execution_count": null,
   "metadata": {},
   "outputs": [],
   "source": [
    "# cmath.polar(complex(3, 4))\n",
    "cmath.rect(Z[1].tolist(), Z[2].tolist())"
   ]
  }
 ],
 "metadata": {
  "kernelspec": {
   "display_name": "wxw_MT3",
   "language": "python",
   "name": "python3"
  },
  "language_info": {
   "codemirror_mode": {
    "name": "ipython",
    "version": 3
   },
   "file_extension": ".py",
   "mimetype": "text/x-python",
   "name": "python",
   "nbconvert_exporter": "python",
   "pygments_lexer": "ipython3",
   "version": "3.8.13"
  },
  "orig_nbformat": 4
 },
 "nbformat": 4,
 "nbformat_minor": 2
}
