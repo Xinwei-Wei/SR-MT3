{
 "cells": [
  {
   "cell_type": "code",
   "execution_count": null,
   "metadata": {},
   "outputs": [],
   "source": [
    "import data_generator\n",
    "import os\n",
    "import multiprocessing\n",
    "import argparse\n",
    "import itertools\n",
    "import math\n",
    "\n",
    "import numpy as np\n",
    "from numpy.random import SeedSequence, default_rng\n",
    "import torch\n",
    "from torch import Tensor\n",
    "import matplotlib.pyplot as plt\n",
    "from util.load_config_files import load_yaml_into_dotdict\n",
    "from util.misc import NestedTensor\n",
    "import pickle\n",
    "import scipy.io as scio"
   ]
  },
  {
   "cell_type": "code",
   "execution_count": null,
   "metadata": {},
   "outputs": [],
   "source": [
    "result_path = '/home/weixinwei/data/MT3/Results/2023-04-18_012716'\n",
    "metric_path = os.path.join(result_path, 'eval')\n",
    "os.makedirs(os.path.join(metric_path, 'figure'), exist_ok=True)"
   ]
  },
  {
   "cell_type": "code",
   "execution_count": null,
   "metadata": {},
   "outputs": [],
   "source": [
    "og = pickle.load(open(os.path.join(metric_path, 'original_gospa.data'), 'rb'))\n",
    "oo = pickle.load(open(os.path.join(metric_path, 'original_ospa.data'), 'rb'))"
   ]
  },
  {
   "cell_type": "code",
   "execution_count": null,
   "metadata": {},
   "outputs": [],
   "source": [
    "frame = 52\n",
    "windowed = False\n",
    "windowSize = 15\n",
    "dt = 1\n",
    "timeStep = frame - 1\n",
    "\n",
    "if windowed:\n",
    "\tsuperTitle = f'Time Step = {frame}, Window Size = {windowSize}'\n",
    "else:\n",
    "\tsuperTitle = f'Time Step = {frame}, No Windowed'\n",
    "\n",
    "for method, deValue in og.items():\n",
    "\tfor deType, value in deValue.items():\n",
    "\t\t# og[method][deType] = np.flipud(np.average(np.delete(np.array(value), -np.arange(len(value)%timeStep)-1).reshape(timeStep, -1), axis=1))\n",
    "\t\tog[method][deType] = np.average(np.delete(np.array(value), -np.arange(len(value)%timeStep)-1).reshape(timeStep, -1), axis=1)\n",
    "for method, deValue in oo.items():\n",
    "\tfor deType, value in deValue.items():\n",
    "\t\t# oo[method][deType] = np.flipud(np.average(np.delete(np.array(value), -np.arange(len(value)%timeStep)-1).reshape(timeStep, -1), axis=1))\n",
    "\t\too[method][deType] = np.average(np.delete(np.array(value), -np.arange(len(value)%timeStep)-1).reshape(timeStep, -1), axis=1)"
   ]
  },
  {
   "cell_type": "code",
   "execution_count": null,
   "metadata": {},
   "outputs": [],
   "source": [
    "# oo['output']\n",
    "scio.savemat(f'{metric_path}/OSPA2_5.mat', oo['output'])"
   ]
  },
  {
   "cell_type": "code",
   "execution_count": null,
   "metadata": {},
   "outputs": [],
   "source": [
    "timeRange = np.arange(dt, frame*dt, dt)\n",
    "r = 45\n",
    "plt.rcParams['font.sans-serif'] = ['SimHei']\n",
    "plt.rcParams['axes.unicode_minus'] = False \n",
    "\n",
    "plt.figure(figsize=(10,6), dpi=300)\n",
    "plt.subplots_adjust(left=None, bottom=None, right=None, top=None, wspace=None, hspace=0.3)\n",
    "\n",
    "plt.subplot(221)\n",
    "plt.plot(timeRange, og['output']['total'], color = 'b', ls='-', lw = 1, marker = '.', ms = 3)\n",
    "plt.grid(linestyle=\"--\", color=\"k\", linewidth=0.5, alpha=0.3)\n",
    "plt.xlabel('Time Step / s', fontsize=6)\n",
    "plt.ylabel('GOSPA Error / m', fontsize=8)\n",
    "plt.xticks(timeRange, fontsize=6, rotation = r)\n",
    "plt.yticks(fontsize=8)\n",
    "plt.title('Total', fontsize = 10)\n",
    "\n",
    "plt.subplot(222)\n",
    "plt.plot(timeRange, og['output']['localization'], color = 'r', ls='-', lw = 1, marker = '.', ms = 3)\n",
    "plt.grid(linestyle=\"--\", color=\"k\", linewidth=0.5, alpha=0.3)\n",
    "plt.xlabel('Time Step / s', fontsize=6)\n",
    "plt.ylabel('GOSPA Error / m', fontsize=8)\n",
    "plt.xticks(timeRange, fontsize=6, rotation = r)\n",
    "plt.yticks(fontsize=8)\n",
    "plt.title('Localization', fontsize = 10)\n",
    "\n",
    "plt.subplot(223)\n",
    "plt.plot(timeRange, og['output']['missed'], color = 'y', ls='-', lw = 1, marker = '.', ms = 3)\n",
    "plt.grid(linestyle=\"--\", color=\"k\", linewidth=0.5, alpha=0.3)\n",
    "plt.xlabel('Time Step / s', fontsize=6)\n",
    "plt.ylabel('GOSPA Error / m', fontsize=8)\n",
    "plt.xticks(timeRange, fontsize=6, rotation = r)\n",
    "plt.yticks(fontsize=8)\n",
    "plt.title('Missed', fontsize = 10)\n",
    "\n",
    "plt.subplot(224)\n",
    "plt.plot(timeRange, og['output']['false'], color = 'g', ls='-', lw = 1, marker = '.', ms = 3)\n",
    "plt.grid(linestyle=\"--\", color=\"k\", linewidth=0.5, alpha=0.3)\n",
    "plt.xlabel('Time Step / s', fontsize=6)\n",
    "plt.ylabel('GOSPA Error / m', fontsize=8)\n",
    "plt.xticks(timeRange, fontsize=6, rotation = r)\n",
    "plt.yticks(fontsize=8)\n",
    "plt.title('False', fontsize = 10)\n",
    "\n",
    "plt.suptitle(f'{superTitle}, GOSPA Metric')\n",
    "plt.savefig(f'{metric_path}/figure/GOSPA_Metric.png', bbox_inches='tight')\n",
    "plt.show()"
   ]
  },
  {
   "cell_type": "code",
   "execution_count": null,
   "metadata": {},
   "outputs": [],
   "source": [
    "timeRange = np.arange(dt, frame*dt, dt)\n",
    "r = 45\n",
    "plt.rcParams['font.sans-serif'] = ['SimHei']\n",
    "plt.rcParams['axes.unicode_minus'] = False \n",
    "\n",
    "plt.figure(figsize=(10,6), dpi=300)\n",
    "plt.subplots_adjust(left=None, bottom=None, right=None, top=None, wspace=None, hspace=0.3)\n",
    "\n",
    "plt.subplot(211)\n",
    "plt.plot(timeRange, oo['output']['total'], color = 'b', ls='-', lw = 1, marker = '.', ms = 3)\n",
    "plt.grid(linestyle=\"--\", color=\"k\", linewidth=0.5, alpha=0.3)\n",
    "plt.xlabel('Time Step / s', fontsize=6)\n",
    "plt.ylabel('OSPA Error / m', fontsize=8)\n",
    "plt.xticks(timeRange, fontsize=6, rotation = r)\n",
    "plt.yticks(fontsize=8)\n",
    "plt.title('Total', fontsize = 10)\n",
    "\n",
    "plt.subplot(223)\n",
    "plt.plot(timeRange, oo['output']['localization'], color = 'r', ls='-', lw = 1, marker = '.', ms = 3)\n",
    "plt.grid(linestyle=\"--\", color=\"k\", linewidth=0.5, alpha=0.3)\n",
    "plt.xlabel('Time Step / s', fontsize=6)\n",
    "plt.ylabel('OSPA Error / m', fontsize=8)\n",
    "plt.xticks(timeRange, fontsize=6, rotation = r)\n",
    "plt.yticks(fontsize=8)\n",
    "plt.title('Localization', fontsize = 10)\n",
    "\n",
    "plt.subplot(224)\n",
    "plt.plot(timeRange, oo['output']['cardinality'], color = 'g', ls='-', lw = 1, marker = '.', ms = 3)\n",
    "plt.grid(linestyle=\"--\", color=\"k\", linewidth=0.5, alpha=0.3)\n",
    "plt.xlabel('Time Step / s', fontsize=6)\n",
    "plt.ylabel('OSPA Error / m', fontsize=8)\n",
    "plt.xticks(timeRange, fontsize=6, rotation = r)\n",
    "plt.yticks(fontsize=8)\n",
    "plt.title('Cardinality', fontsize = 10)\n",
    "\n",
    "plt.suptitle(f'{superTitle}, OSPA Metric')\n",
    "plt.savefig(f'{metric_path}/figure/OSPA_Metric.png', bbox_inches='tight')\n",
    "plt.show()"
   ]
  }
 ],
 "metadata": {
  "kernelspec": {
   "display_name": "Python 3.8.13 ('wxw_MT3': conda)",
   "language": "python",
   "name": "python3"
  },
  "language_info": {
   "codemirror_mode": {
    "name": "ipython",
    "version": 3
   },
   "file_extension": ".py",
   "mimetype": "text/x-python",
   "name": "python",
   "nbconvert_exporter": "python",
   "pygments_lexer": "ipython3",
   "version": "3.8.13"
  },
  "orig_nbformat": 4,
  "vscode": {
   "interpreter": {
    "hash": "347784c50ede1b8272d3277b31bd1efc47294a65da090260761e3995fd8a0fe0"
   }
  }
 },
 "nbformat": 4,
 "nbformat_minor": 2
}
