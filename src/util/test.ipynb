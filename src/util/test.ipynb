{
 "cells": [
  {
   "cell_type": "code",
   "execution_count": null,
   "metadata": {},
   "outputs": [],
   "source": [
    "# from FusionDataGenerator import FusionDataGenerator\n",
    "# from MT3DataConvertor import MT3DataConvertor\n",
    "import scipy.io as scio\n",
    "import numpy as np"
   ]
  },
  {
   "cell_type": "code",
   "execution_count": null,
   "metadata": {},
   "outputs": [],
   "source": [
    "sensor = scio.loadmat('/home/weixinwei/study/MT3-test/src/results/Sensor.mat')['Sensor']\n",
    "fusionData = dict({'Radar': dict(), 'Pradar': dict(), 'DAS': dict(), 'Rect': dict()})"
   ]
  },
  {
   "cell_type": "code",
   "execution_count": null,
   "metadata": {},
   "outputs": [],
   "source": [
    "sensor[3, 0][3, 0].shape"
   ]
  },
  {
   "cell_type": "code",
   "execution_count": null,
   "metadata": {},
   "outputs": [],
   "source": [
    "Z_Truth = []\n",
    "for i in range(71):\n",
    "\tZ_Truth.append(np.r_[id[i, 0], zT[i, 0]])\n",
    "\tZ = np.r_[np.c_[id[i, 0], np.zeros([1, zM[i, 0].shape[1] - id[i, 0].shape[1]]) - 1], zM[i, 0]]\t\t# ids杂波补-1\n",
    "\tZ = Z[:, np.random.permutation(np.arange(Z.shape[1]))]\t\t\t\t\t\t\t\t\t\t\t\t# 乱序"
   ]
  },
  {
   "cell_type": "code",
   "execution_count": null,
   "metadata": {},
   "outputs": [],
   "source": [
    "Z_Truth[0:10][1].shape"
   ]
  },
  {
   "cell_type": "code",
   "execution_count": null,
   "metadata": {},
   "outputs": [],
   "source": [
    "taskPath = '/home/weixinwei/scen1.1.yaml'\n",
    "modelPath  = '/home/weixinwei/study/MT3-test/configs/models/mt3.pro.yaml'\n",
    "# fusionDataGenerator = FusionDataGenerator(taskPath)\n",
    "mT3DataConvertor = MT3DataConvertor(taskPath, modelPath)"
   ]
  },
  {
   "cell_type": "code",
   "execution_count": null,
   "metadata": {},
   "outputs": [],
   "source": [
    "x = fusionDataGenerator.GenMeasurements()"
   ]
  },
  {
   "cell_type": "code",
   "execution_count": null,
   "metadata": {},
   "outputs": [],
   "source": [
    "# print(x[0]['Rect']['Z'][30])\n",
    "# print(x[0]['Rect']['Z_Truth'][30])\n",
    "x[0]['Radar']"
   ]
  }
 ],
 "metadata": {
  "kernelspec": {
   "display_name": "wxw_MT3",
   "language": "python",
   "name": "python3"
  },
  "language_info": {
   "codemirror_mode": {
    "name": "ipython",
    "version": 3
   },
   "file_extension": ".py",
   "mimetype": "text/x-python",
   "name": "python",
   "nbconvert_exporter": "python",
   "pygments_lexer": "ipython3",
   "version": "3.8.13"
  },
  "orig_nbformat": 4
 },
 "nbformat": 4,
 "nbformat_minor": 2
}
