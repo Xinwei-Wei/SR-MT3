{
 "cells": [
  {
   "cell_type": "code",
   "execution_count": null,
   "metadata": {},
   "outputs": [],
   "source": [
    "import argparse\n",
    "import math\n",
    "import os\n",
    "import pickle\n",
    "import warnings\n",
    "\n",
    "# from data_generation.data_generator import DataGenerator\n",
    "import data_generator\n",
    "from util.MT3DataConvertor import MT3DataConvertor\n",
    "import PerformanceEval\n",
    "import matplotlib.pyplot as plt\n",
    "import numpy as np\n",
    "import torch\n",
    "from util.load_config_files import load_yaml_into_dotdict\n",
    "from util.misc import super_load\n",
    "import scipy.io as scio\n",
    "import PerformanceEval\n",
    "\n",
    "# from modules.loss import MotLoss\n",
    "# from modules import evaluator\n",
    "\n",
    "os.environ['CUDA_VISIBLE_DEVICES']='1'"
   ]
  },
  {
   "cell_type": "code",
   "execution_count": null,
   "metadata": {},
   "outputs": [],
   "source": [
    "# Parse arguments and load the model, before doing anything else (important, reduces possibility of weird bugs)\n",
    "parser = argparse.ArgumentParser()\n",
    "# parser.add_argument('-rp', '--result_filepath', default='/home/weixinwei/study/MT3-test/src/results/2023-03-31_211406')\n",
    "# parser.add_argument('-tp', '--task_params', default='/home/weixinwei/study/MT3-test/configs/tasks/scen2.5.yaml')\n",
    "# parser.add_argument('-mp', '--model_params', default='/home/weixinwei/study/MT3-test/configs/models/mt3.pro.yaml')\n",
    "parser.add_argument('-rp', '--result_filepath', default='/home/weixinwei/data/MT3/Results/2022-12-18_022739')\n",
    "parser.add_argument('-tp', '--task_params', default='/home/weixinwei/data/MT3/Results/2022-12-18_022739/code_used/task_params.yaml')\n",
    "parser.add_argument('-mp', '--model_params', default='/home/weixinwei/data/MT3/Results/2022-12-18_022739/code_used/model_params.yaml')\n",
    "args = parser.parse_known_args()[0]\n",
    "print(f'Evaluating results from folder: {args.result_filepath}...')\n",
    "\n",
    "model, params = super_load(args.result_filepath, verbose=True)\n",
    "\n",
    "# Test that the model was trained in the task chosen for evaluation\n",
    "if args.task_params is not None:\n",
    "    task_params = load_yaml_into_dotdict(args.task_params)\n",
    "    for k, v in task_params.data_generation.items():\n",
    "        if k not in params.data_generation:\n",
    "            warnings.warn(f\"Key '{k}' not found in trained model's hyperparameters\")\n",
    "        elif params.data_generation[k] != v:\n",
    "            warnings.warn(f\"Different values for key '{k}'. Task: {v}\\tTrained: {params.data_generation[k]}\")\n",
    "    # Use task params, not the ones from the trained model\n",
    "    params.recursive_update(task_params)  # note: parameters specified only on trained model will remain untouched\n",
    "else:\n",
    "    warnings.warn('Evaluation task was not specified; inferring it from the task specified in the results folder.')\n",
    "\n",
    "# eval_params = load_yaml_into_dotdict('configs/eval/default.yaml')\n",
    "eval_params = load_yaml_into_dotdict('/home/weixinwei/study/MT3-test/configs/eval/default.yaml')\n",
    "params.recursive_update(eval_params)\n",
    "\n",
    "# data_generator = DataGenerator(params)\n",
    "# mt3DataConvertor = MT3DataConvertor(args.task_params, args.model_params, evalBS = 1, matPath='/home/weixinwei/Sensor.mat')\n",
    "# mt3DataConvertor = MT3DataConvertor(args.task_params, args.model_params, evalBS = 1)\n",
    "GetSeqBatch = data_generator.GetSeqBatch(params)\n",
    "# GetSeqBatch = data_generator.GetWinBatch(params)\n",
    "# mot_loss = MotLoss(params)"
   ]
  },
  {
   "cell_type": "code",
   "execution_count": null,
   "metadata": {},
   "outputs": [],
   "source": [
    "batch, labels, unique_ids = next(GetSeqBatch)\n",
    "# batch, labels, unique_ids = mt3DataConvertor.Get_batch()\n",
    "output, _, _, _, _ = model.forward(batch, unique_ids)"
   ]
  },
  {
   "cell_type": "code",
   "execution_count": null,
   "metadata": {},
   "outputs": [],
   "source": [
    "x = PerformanceEval.SeqPredExport(mt3DataConvertor, model, 51, 5, 0.4)"
   ]
  },
  {
   "cell_type": "code",
   "execution_count": null,
   "metadata": {},
   "outputs": [],
   "source": [
    "trajectory = {'trajectory': x}"
   ]
  },
  {
   "cell_type": "code",
   "execution_count": null,
   "metadata": {},
   "outputs": [],
   "source": [
    "scio.savemat(f'/home/weixinwei/trajectory.mat', trajectory)"
   ]
  },
  {
   "cell_type": "code",
   "execution_count": null,
   "metadata": {},
   "outputs": [],
   "source": [
    "# xRMSE, yRMSE = PerformanceEval.CalculateRMSE(mt3DataConvertor, model, 31, 1, 1000, 5, 0.4)\n",
    "SeqPredPlot(GetSeqBatch, model, 19, 0.4)"
   ]
  },
  {
   "cell_type": "code",
   "execution_count": null,
   "metadata": {},
   "outputs": [],
   "source": [
    "x = '11'\n",
    "RMSE = {f'RMSE{x}':{'scene':f'{x}', 'xRMSE': xRMSE, 'yRMSE': yRMSE}}\n",
    "scio.savemat(f'/home/weixinwei/ToMATLAB/RMSE{x}.mat', RMSE)"
   ]
  },
  {
   "cell_type": "code",
   "execution_count": null,
   "metadata": {},
   "outputs": [],
   "source": [
    "# GetSeqBatch = data_generator.GetSeqBatch(params)\n",
    "# GetSeqBatch = data_generator.GetWinBatch(params)\n",
    "# data_generator = DataGenerator(params)\n",
    "data = scio.loadmat('/home/weixinwei/ToMATLAB/RMSE1.1.mat')"
   ]
  },
  {
   "cell_type": "code",
   "execution_count": null,
   "metadata": {},
   "outputs": [],
   "source": [
    "for i in range(1, 4):\n",
    "\tfor j in range(1, 5):\n",
    "\t\tx = f'{i}.{j}'\n",
    "\t\ty = f'{i}_{j}'\n",
    "\t\tdata = scio.loadmat(f'/home/weixinwei/ToMATLAB/RMSE{x}.mat')\n",
    "\t\txRMSE = data[f'RMSE{x}']['xRMSE'][0, 0]\n",
    "\t\tyRMSE = data[f'RMSE{x}']['yRMSE'][0, 0]\n",
    "\t\tRMSE = {f'RMSE{y}':{'scene':f'{x}', 'xRMSE': xRMSE, 'yRMSE': yRMSE}}\n",
    "\t\tscio.savemat(f'/home/weixinwei/ToMATLAB/RMSE{y}.mat', RMSE)"
   ]
  },
  {
   "cell_type": "code",
   "execution_count": null,
   "metadata": {},
   "outputs": [],
   "source": [
    "xRMSE"
   ]
  },
  {
   "cell_type": "code",
   "execution_count": null,
   "metadata": {},
   "outputs": [],
   "source": [
    "sensor = data['sensor']\n",
    "radar = sensor[0,0]\n",
    "radarTruth = radar[9]\n",
    "state = np.zeros((0, 16, 2))\n",
    "logit = np.zeros((0, 16))\n",
    "\n",
    "def dataGen(timestep):\n",
    "\tbatch, labels, unique_ids, _ = data_generator.get_batch()\n",
    "\tdt = 0.1\n",
    "\ttransData = np.zeros((0, 3))\n",
    "\tfor i in range(50):\n",
    "\t\ttemp = radarTruth[i + timestep, 0].T\n",
    "\t\ttemp[:, 2] = i * dt\n",
    "\t\ttransData = np.vstack((transData, temp))\n",
    "\t#end\n",
    "\ttransDataTensor = torch.tensor(transData, device='cuda:0', dtype=torch.float32)\n",
    "\tbatch.tensors = torch.unsqueeze(transDataTensor, dim = 0)\n",
    "\tbatch.mask = torch.unsqueeze(torch.zeros(transDataTensor.shape[0]).bool().cuda(device='cuda:0'), dim = 0)\n",
    "\treturn batch, unique_ids\n",
    "\n",
    "for i in range(50):\n",
    "\tbatch, unique_ids = dataGen(i)\n",
    "\toutput, _, _, _, _ = model.forward(batch, unique_ids)\n",
    "\toutput_state = output['state'].detach().cpu().numpy()\n",
    "\toutput_logits = output['logits'].sigmoid().detach().cpu().numpy()\n",
    "\toutput_logits = np.squeeze(output_logits, axis=2)\n",
    "\tstate = state = np.concatenate((state, output_state), axis=0)\n",
    "\tlogit = np.concatenate((logit, output_logits), axis=0)\n",
    "\t"
   ]
  },
  {
   "cell_type": "code",
   "execution_count": null,
   "metadata": {},
   "outputs": [],
   "source": [
    "toMat = {'state': state, 'logit': logit}\n",
    "scio.savemat('output.mat', toMat)"
   ]
  },
  {
   "cell_type": "code",
   "execution_count": null,
   "metadata": {},
   "outputs": [],
   "source": [
    "# batch, labels, unique_ids, trajectories = data_generator.get_radar_batch(0.5, 1)\n",
    "batch, labels, unique_ids = data_generator.get_polar_batch()\n",
    "plt.figure(figsize=(8, 8), dpi=300)\n",
    "\n",
    "# falseMeas = batch.tensors[0][(unique_ids[0] == -1)].cpu()\n",
    "# plt.scatter(falseMeas.T[0], falseMeas.T[1], color='k', marker='.', alpha=falseMeas.T[2]/winSize/1.2, label='False Measurements')\n",
    "\n",
    "output, memory, contrastive_classifications, queries, attn_maps = model.forward(batch, unique_ids)\n",
    "PlotResult(batch, labels, output)\n"
   ]
  },
  {
   "cell_type": "code",
   "execution_count": null,
   "metadata": {},
   "outputs": [],
   "source": [
    "# torch.pow(min([torch.Tensor([3]), 2]), 2)\n",
    "mt3DataConvertor.ResetBias()"
   ]
  },
  {
   "cell_type": "code",
   "execution_count": null,
   "metadata": {},
   "outputs": [],
   "source": [
    "SeqPredPlot(mt3DataConvertor, model, 51, 0.4)\n",
    "# xRMSE, yRMSE = CalculateRMSE(mt3DataConvertor, model, 31, 1, 100, 5, 0.4)"
   ]
  },
  {
   "cell_type": "code",
   "execution_count": null,
   "metadata": {},
   "outputs": [],
   "source": [
    "def CalculateRMSE(dataGenerator, model, cycle, batchSize, times, cutoffDistance, existanceThreshold = 0.9):\n",
    "# dataGenerator = mt3DataConvertor\n",
    "# cycle = 31\n",
    "# batchSize = 1\n",
    "# times = 10\n",
    "# cutoffDistance = 50\n",
    "# existanceThreshold = 0.4\n",
    "\tnTimes = 0\n",
    "\txRMSE = np.zeros([cycle, batchSize])\n",
    "\tyRMSE = np.zeros([cycle, batchSize])\n",
    "\twhile nTimes < times:\n",
    "\t\tmt3DataConvertor.ResetBias()\n",
    "\t\tfor nCycle in range(cycle):\n",
    "\t\t\tbatch, labels, unique_ids = dataGenerator.Get_batch()\n",
    "\t\t\tif nCycle == 0 and np.size(mt3DataConvertor.fusionData[0]['Radar']['Z_Truth'][50]) == 0:\n",
    "\t\t\t\tnTimes -= 1\n",
    "\t\t\t\tbreak\n",
    "\t\t\toutput, _, _, _, _ = model.forward(batch, unique_ids)\n",
    "\t\t\toutput_state = output['state'].detach()\n",
    "\t\t\toutput_logits = output['logits'].sigmoid().detach()\n",
    "\t\t\t# bs, num_queries = output_state.shape[:2]\n",
    "\t\t\t\n",
    "\t\t\tfor batchID in range(batchSize):\n",
    "\t\t\t\t# alive_idx = output_logits[batchID, :].squeeze(-1) > existanceThreshold\n",
    "\t\t\t\tmaxThreshold = max([torch.max(output_logits[batchID, :].squeeze(-1)), existanceThreshold])\n",
    "\t\t\t\talive_idx = output_logits[batchID, :].squeeze(-1) == maxThreshold\n",
    "\t\t\t\talive_output = output_state[batchID, alive_idx, :].cpu().numpy() \t# Pred\n",
    "\t\t\t\tcurrent_targets = labels[batchID].cpu().numpy()\t\t\t\t\t\t# Truth\n",
    "\n",
    "\t\t\t\tif np.size(alive_output) == 0:\n",
    "\t\t\t\t\txDiff = yDiff = cutoffDistance**2\n",
    "\t\t\t\telse:\n",
    "\t\t\t\t\txDiff = min((alive_output[0, 0] - current_targets[0, 0])**2, cutoffDistance**2)\n",
    "\t\t\t\t\tyDiff = min((alive_output[0, 1] - current_targets[0, 1])**2, cutoffDistance**2)\n",
    "\t\t\t\t# end if\n",
    "\t\t\t\txRMSE[nCycle, batchID] += xDiff\n",
    "\t\t\t\tyRMSE[nCycle, batchID] += yDiff\n",
    "\t\t\t# end for\n",
    "\t\t# end for\n",
    "\t\tnTimes += 1\n",
    "\t# end while\n",
    "\txRMSE = np.sqrt(xRMSE/times)\n",
    "\tyRMSE = np.sqrt(yRMSE/times)\n",
    "\treturn xRMSE, yRMSE"
   ]
  },
  {
   "cell_type": "code",
   "execution_count": null,
   "metadata": {},
   "outputs": [],
   "source": [
    "mt3DataConvertor.fusionData[0]['Radar']['Z_Truth'][50]"
   ]
  },
  {
   "cell_type": "code",
   "execution_count": null,
   "metadata": {},
   "outputs": [],
   "source": [
    "falseMeas.shape[0] != 0"
   ]
  },
  {
   "cell_type": "code",
   "execution_count": null,
   "metadata": {},
   "outputs": [],
   "source": []
  },
  {
   "cell_type": "code",
   "execution_count": null,
   "metadata": {},
   "outputs": [],
   "source": [
    "def SeqPredPlot(dataGenerator, model, timeStep, existanceThreshold = 0.9):\n",
    "\t'''\n",
    "\t序列化预测结果绘制\n",
    "\t'''\n",
    "# dataGenerator = GetSeqBatch\n",
    "# timeStep = 19\n",
    "# existanceThreshold = 0.4\n",
    "\n",
    "\tplt.figure(figsize=(4, 4), dpi=300)\n",
    "\tplt.rcParams['font.sans-serif'] = ['SimHei']\n",
    "\tplt.rcParams['axes.unicode_minus'] = False\n",
    "\txLim = []; yLim = []\n",
    "\tfor stepID in range(timeStep):\n",
    "\t\tbatch, labels, unique_ids = next(dataGenerator)\n",
    "\t\t# batch, labels, unique_ids = dataGenerator.Get_batch()\n",
    "\t\toutput, _, _, _, _ = model.forward(batch, unique_ids)\n",
    "\t\toutput_state = output['state'].detach()\n",
    "\t\toutput_logits = output['logits'].sigmoid().detach()\n",
    "\t\tbs, num_queries = output_state.shape[:2]\n",
    "\t\tfor batchID in range(bs):\n",
    "\t\t\tif stepID == 0:\n",
    "\t\t\t\tfalseMeas = batch.tensors[batchID][(unique_ids[batchID] == -1)].cpu()\n",
    "\t\t\t\tif falseMeas.shape[0] != 0:\n",
    "\t\t\t\t\tplt.scatter(falseMeas.T[0][:-1], falseMeas.T[1][:-1], color='k', marker='+', alpha=falseMeas.T[2][:-1]/falseMeas.T[2].max()/1.2)\n",
    "\t\t\t\t\tplt.scatter(falseMeas.T[0][-1], falseMeas.T[1][-1], color='k', marker='+', alpha=1/1.2, label='Clutter')\n",
    "\t\t\t\t# end if\n",
    "\t\t\t# end if\n",
    "\t\t\talive_idx = output_logits[batchID, :].squeeze(-1) > existanceThreshold\n",
    "\t\t\t# maxThreshold = max([torch.max(output_logits[batchID, :].squeeze(-1)), existanceThreshold])\n",
    "\t\t\t# alive_idx = output_logits[batchID, :].squeeze(-1) == maxThreshold\n",
    "\t\t\talive_output = output_state[batchID, alive_idx, :].cpu()\n",
    "\t\t\tcurrent_targets = labels[batchID].cpu()\n",
    "\t\t\tpointAlpha = 1 - stepID / timeStep\n",
    "\t\t\t# pointAlpha = stepID / timeStep\n",
    "\t\t\t# if stepID == timeStep - 1 and batchID == 0:\n",
    "\t\t\tif stepID == 0 and batchID == 0:\n",
    "\t\t\t\tplt.scatter(current_targets.T[0], current_targets.T[1], color='b', marker='+', alpha=pointAlpha/2, label = '目标真实位置')\n",
    "\t\t\t\tplt.scatter(alive_output.T[0], alive_output.T[1], color='r', marker='x', alpha=pointAlpha/1.2, label = '算法预测位置')\n",
    "\t\t\telse:\n",
    "\t\t\t\tplt.scatter(current_targets.T[0], current_targets.T[1], color='b', marker='+', alpha=pointAlpha/2)\n",
    "\t\t\t\tplt.scatter(alive_output.T[0], alive_output.T[1], color='r', marker='x', alpha=pointAlpha/1.2)\n",
    "\t\t\t# end if\n",
    "\t\t\tif stepID == 0 or stepID == timeStep - 1:\n",
    "\t\t\t\txLim.append(current_targets.T[0])\n",
    "\t\t\t\tyLim.append(current_targets.T[1])\n",
    "\t\t\t# end if\n",
    "\t\t# end for\n",
    "\t# end for\n",
    "\t# xLim.sort(); yLim.sort()\n",
    "\t# plt.xlim((xLim[0]-10, xLim[1]+10))\n",
    "\t# plt.ylim((yLim[0]-10, yLim[1]+10))\n",
    "\tplt.xlabel('X / km')\n",
    "\tplt.ylabel('Y / km')\n",
    "\tplt.legend(loc = 1)\n",
    "\tplt.grid(True, linestyle=\"--\", color=\"k\", linewidth=0.5, alpha=0.3)\n",
    "\tplt.show()\n",
    "\n",
    "# SeqPredPlot(mt3DataConvertor, model, 31, 0.4)\n",
    "# SeqPredPlot(GetSeqBatch, model, 19, 0.1)"
   ]
  },
  {
   "cell_type": "code",
   "execution_count": null,
   "metadata": {},
   "outputs": [],
   "source": [
    "def PlotResult(batch, labels, output):\n",
    "\t'''\n",
    "\t训练数据绘制\n",
    "\t'''\n",
    "\toutputs = output\n",
    "\ttargets = labels\n",
    "\texistance_threshold = 0.8\n",
    "\n",
    "\toutput_state = outputs['state'].detach()\n",
    "\toutput_logits = outputs['logits'].sigmoid().detach()\n",
    "\tbs, num_queries = output_state.shape[:2]\n",
    "\n",
    "\t# plt.subplot(5, 4, pnum)\n",
    "\n",
    "\tcolorEnum = ['r', 'y', 'g', 'c', 'b', 'm', 'r', 'y', 'g', 'c', 'b', 'm']\n",
    "\tfor measBatch in range(bs):\n",
    "\t\tmeasPosX = batch.tensors[measBatch, ~batch.mask[measBatch], 0].cpu()\n",
    "\t\tmeasPosY = batch.tensors[measBatch, ~batch.mask[measBatch], 1].cpu()\n",
    "\t\tmeasAlph = (batch.tensors[measBatch, ~batch.mask[measBatch], 2]/max(batch.tensors[measBatch, ~batch.mask[measBatch], 2])/2).cpu()\n",
    "\t\t# measAlph = 1 - fnum/19\n",
    "\t\t\n",
    "\t\talive_idx = output_logits[measBatch, :].squeeze(-1) > existance_threshold\n",
    "\t\talive_output = output_state[measBatch, alive_idx, :].cpu()\n",
    "\t\tcurrent_targets = targets[measBatch].cpu()\n",
    "\n",
    "\t\t# plt.figure(figsize=(8, 8), dpi=300)\n",
    "\t\t# # 笛卡尔\n",
    "\t\tplt.scatter(measPosX, measPosY, color='k', marker='+', alpha=measAlph)\n",
    "\t\tplt.scatter(current_targets.T[0], current_targets.T[1], color='b', marker='+', alpha=0.5, label = 'Ground Truth')\n",
    "\t\tplt.scatter(alive_output.T[0], alive_output.T[1], color='r', marker='x', alpha=0.5, label = 'MT3 Prediction')\n",
    "\n",
    "\t\t# 极坐标\n",
    "\t\t# ax = plt.axes(projection='polar')\n",
    "\t\t# ax.scatter(measPosY*np.pi/180.0, measPosX, color='k', marker='+', alpha=measAlph)\n",
    "\t\t# ax.scatter(current_targets.T[1]*np.pi/180.0, current_targets.T[0], color='b', marker='+', alpha=0.5, label = 'Ground Truth')\n",
    "\t\t# ax.scatter(alive_output.T[1]*np.pi/180.0, alive_output.T[0], color='r', marker='x', alpha=0.5, label = 'MT3 Prediction')\n",
    "\n",
    "\t\t# for targetNo in list(trajectories[measBatch]):\n",
    "\t\t# \ttrackPosX = trajectories[measBatch][targetNo].T[0]\n",
    "\t\t# \ttrackPosY = trajectories[measBatch][targetNo].T[1]\n",
    "\t\t# \ttrackAlph = trajectories[measBatch][targetNo].T[4]/max(trajectories[measBatch][targetNo].T[4])\n",
    "\t\t# \tplt.scatter(trackPosX, trackPosY, color=colorEnum[targetNo], marker='x', alpha=trackAlph)\n",
    "\n",
    "\t\t# 笛卡尔\n",
    "\t\t# plt.xlim((-100, 100))\n",
    "\t\t# plt.ylim((-100, 100))\n",
    "\t\tplt.grid(True, linestyle=\"--\", color=\"k\", linewidth=0.5, alpha=0.3)\n",
    "\t\tplt.legend(loc=1, frameon=True, fontsize = 8)\n",
    "\t\tplt.xlabel('Range / m')\n",
    "\t\tplt.ylabel('Angle / °')\n",
    "\t\t# 极坐标\n",
    "\t\t# ax.set_thetagrids(np.arange(-90.0, 90.0, 10.0))\n",
    "\t\t# # ax.set_rgrids(np.arange(0, 100, 10))\n",
    "\t\t# ax.grid(True, linestyle=\"--\", color=\"k\", linewidth=0.5, alpha=0.3)\n",
    "\t\t# ax.set_axisbelow('True')\n",
    "\t\t# plt.legend(loc=1, frameon=True)\n",
    "\t\t# plt.xlim((-np.pi/2, np.pi/2))\n",
    "\t\t# # plt.ylim((0, 100))\n",
    "\n",
    "\t\tplt.show()"
   ]
  }
 ],
 "metadata": {
  "kernelspec": {
   "display_name": "Python 3.8.13 ('wxw_MT3': conda)",
   "language": "python",
   "name": "python3"
  },
  "language_info": {
   "codemirror_mode": {
    "name": "ipython",
    "version": 3
   },
   "file_extension": ".py",
   "mimetype": "text/x-python",
   "name": "python",
   "nbconvert_exporter": "python",
   "pygments_lexer": "ipython3",
   "version": "3.8.13"
  },
  "orig_nbformat": 4,
  "vscode": {
   "interpreter": {
    "hash": "347784c50ede1b8272d3277b31bd1efc47294a65da090260761e3995fd8a0fe0"
   }
  }
 },
 "nbformat": 4,
 "nbformat_minor": 2
}
