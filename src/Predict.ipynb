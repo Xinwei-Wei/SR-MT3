{
 "cells": [
  {
   "cell_type": "code",
   "execution_count": null,
   "metadata": {},
   "outputs": [],
   "source": [
    "import argparse\n",
    "import math\n",
    "import os\n",
    "import pickle\n",
    "import warnings\n",
    "\n",
    "import data_generator\n",
    "from util.MT3DataConvertor import MT3DataConvertor\n",
    "import PerformanceEval\n",
    "import matplotlib.pyplot as plt\n",
    "import numpy as np\n",
    "import torch\n",
    "from util.load_config_files import load_yaml_into_dotdict\n",
    "from util.misc import super_load\n",
    "import scipy.io as scio\n",
    "import PerformanceEval\n",
    "\n",
    "os.environ['CUDA_VISIBLE_DEVICES']='1'"
   ]
  },
  {
   "cell_type": "code",
   "execution_count": null,
   "metadata": {},
   "outputs": [],
   "source": [
    "parser = argparse.ArgumentParser()\n",
    "parser.add_argument('-rp', '--result_filepath', default='/home/weixinwei/data/MT3/Results/2023-05-03_022739')\n",
    "parser.add_argument('-tp', '--task_params', default='/home/weixinwei/data/MT3/Results/2023-05-03_022739/code_used/task_params.yaml')\n",
    "parser.add_argument('-mp', '--model_params', default='/home/weixinwei/data/MT3/Results/2023-05-03_022739/code_used/model_params.yaml')\n",
    "args = parser.parse_known_args()[0]\n",
    "print(f'Evaluating results from folder: {args.result_filepath}...')\n",
    "\n",
    "model, params = super_load(args.result_filepath, verbose=True)\n",
    "\n",
    "# Test that the model was trained in the task chosen for evaluation\n",
    "if args.task_params is not None:\n",
    "    task_params = load_yaml_into_dotdict(args.task_params)\n",
    "    for k, v in task_params.data_generation.items():\n",
    "        if k not in params.data_generation:\n",
    "            warnings.warn(f\"Key '{k}' not found in trained model's hyperparameters\")\n",
    "        elif params.data_generation[k] != v:\n",
    "            warnings.warn(f\"Different values for key '{k}'. Task: {v}\\tTrained: {params.data_generation[k]}\")\n",
    "    # Use task params, not the ones from the trained model\n",
    "    params.recursive_update(task_params)  # note: parameters specified only on trained model will remain untouched\n",
    "else:\n",
    "    warnings.warn('Evaluation task was not specified; inferring it from the task specified in the results folder.')\n",
    "\n",
    "eval_params = load_yaml_into_dotdict('/home/weixinwei/study/MT3-test/configs/eval/default.yaml')\n",
    "params.recursive_update(eval_params)\n",
    "\n",
    "GetSeqBatch = data_generator.GetSeqBatch(params)"
   ]
  },
  {
   "cell_type": "code",
   "execution_count": null,
   "metadata": {},
   "outputs": [],
   "source": [
    "def SeqPredPlot(dataGenerator, model, timeStep, existanceThreshold = 0.9):\n",
    "\t'''\n",
    "\t序列化预测结果绘制\n",
    "\t'''\n",
    "\tplt.figure(figsize=(6, 6), dpi=300)\n",
    "\tplt.rcParams['font.sans-serif'] = ['SimHei']\n",
    "\tplt.rcParams['axes.unicode_minus'] = False\n",
    "\txLim = []; yLim = []\n",
    "\tfor stepID in range(timeStep):\n",
    "\t\tbatch, labels, unique_ids = next(dataGenerator)\n",
    "\t\toutput, _, _, _, _ = model.forward(batch, unique_ids)\n",
    "\t\toutput_state = output['state'].detach()\n",
    "\t\toutput_logits = output['logits'].sigmoid().detach()\n",
    "\t\tbs, num_queries = output_state.shape[:2]\n",
    "\t\tfor batchID in range(bs):\n",
    "\t\t\tif stepID == 0:\n",
    "\t\t\t\tfalseMeas = batch.tensors[batchID][(unique_ids[batchID] == -1)].cpu()\n",
    "\t\t\t\tif falseMeas.shape[0] != 0:\n",
    "\t\t\t\t\tplt.scatter(falseMeas.T[0][:-1], falseMeas.T[1][:-1], color='k', marker='+', alpha=falseMeas.T[2][:-1]/falseMeas.T[2].max()/1.2)\n",
    "\t\t\t\t\tplt.scatter(falseMeas.T[0][-1], falseMeas.T[1][-1], color='k', marker='+', alpha=1/1.2, label='Clutter')\n",
    "\t\t\t\t# end if\n",
    "\t\t\t# end if\n",
    "\t\t\talive_idx = output_logits[batchID, :].squeeze(-1) > existanceThreshold\n",
    "\t\t\talive_output = output_state[batchID, alive_idx, :].cpu()\n",
    "\t\t\tcurrent_targets = labels[batchID].cpu()\n",
    "\t\t\tpointAlpha = 1 - stepID / timeStep\n",
    "\t\t\tif stepID == 0 and batchID == 0:\n",
    "\t\t\t\tplt.scatter(current_targets.T[0], current_targets.T[1], color='b', marker='+', alpha=pointAlpha/2, label = '目标真实位置')\n",
    "\t\t\t\tplt.scatter(alive_output.T[0], alive_output.T[1], color='r', marker='x', alpha=pointAlpha/1.2, label = '算法预测位置')\n",
    "\t\t\telse:\n",
    "\t\t\t\tplt.scatter(current_targets.T[0], current_targets.T[1], color='b', marker='+', alpha=pointAlpha/2)\n",
    "\t\t\t\tplt.scatter(alive_output.T[0], alive_output.T[1], color='r', marker='x', alpha=pointAlpha/1.2)\n",
    "\t\t\t# end if\n",
    "\t\t\tif stepID == 0 or stepID == timeStep - 1:\n",
    "\t\t\t\txLim.append(current_targets.T[0])\n",
    "\t\t\t\tyLim.append(current_targets.T[1])\n",
    "\t\t\t# end if\n",
    "\t\t# end for\n",
    "\t# end for\n",
    "\tplt.xlabel('X / km')\n",
    "\tplt.ylabel('Y / km')\n",
    "\tplt.legend(loc = 1)\n",
    "\tplt.grid(True, linestyle=\"--\", color=\"k\", linewidth=0.5, alpha=0.3)\n",
    "\tplt.show()"
   ]
  },
  {
   "cell_type": "code",
   "execution_count": null,
   "metadata": {},
   "outputs": [],
   "source": [
    "SeqPredPlot(GetSeqBatch, model, 19, 0.4)"
   ]
  }
 ],
 "metadata": {
  "kernelspec": {
   "display_name": "Python 3.8.13 ('wxw_MT3': conda)",
   "language": "python",
   "name": "python3"
  },
  "language_info": {
   "codemirror_mode": {
    "name": "ipython",
    "version": 3
   },
   "file_extension": ".py",
   "mimetype": "text/x-python",
   "name": "python",
   "nbconvert_exporter": "python",
   "pygments_lexer": "ipython3",
   "version": "3.8.13"
  },
  "orig_nbformat": 4,
  "vscode": {
   "interpreter": {
    "hash": "347784c50ede1b8272d3277b31bd1efc47294a65da090260761e3995fd8a0fe0"
   }
  }
 },
 "nbformat": 4,
 "nbformat_minor": 2
}
